{
 "cells": [
  {
   "cell_type": "code",
   "execution_count": 9,
   "metadata": {
    "collapsed": true
   },
   "outputs": [],
   "source": [
    "# python2.7\n",
    "import numpy.random as rand\n",
    "import matplotlib.pyplot as plt\n",
    "import math"
   ]
  },
  {
   "cell_type": "code",
   "execution_count": 10,
   "metadata": {
    "collapsed": true
   },
   "outputs": [],
   "source": [
    "def algorithm(points_sample, answer):\n",
    "    \"\"\" Returns (a1, b1, a2, b2) for given points sample. Returns (1, 0, 1, 0) in case none of the points is positive. \"\"\"\n",
    "    a1 = 1\n",
    "    a2 = 1\n",
    "    b1 = 0\n",
    "    b2 = 0\n",
    "    for (x1, x2), y in zip(points_sample, answer):\n",
    "        if y == 1:\n",
    "            if x1 < a1:\n",
    "                a1 = x1\n",
    "            if x1 > b1:\n",
    "                b1 = x1\n",
    "            if x2 < a2:\n",
    "                a2 = x2\n",
    "            if x2 > b2:\n",
    "                b2 = x2\n",
    "    return (a1, b1, a2, b2)"
   ]
  },
  {
   "cell_type": "code",
   "execution_count": 11,
   "metadata": {
    "collapsed": true
   },
   "outputs": [],
   "source": [
    "def true_risk(q, x, a1, b1, a2, b2):\n",
    "    \"\"\" Returns true risk for chosen coefficients (a1, b1, a2, b2). \"\"\"\n",
    "    if (a1, b1, a2, b2) == (1, 0, 1, 0):\n",
    "        return 1 - (q / x)**0.5\n",
    "    empirical_positive_size = (b1 - a1) * (b2 - a2)\n",
    "    true_positive_size = q * q\n",
    "    mistaken_size = true_positive_size - empirical_positive_size\n",
    "    return mistaken_size / (x * x)"
   ]
  },
  {
   "cell_type": "code",
   "execution_count": 12,
   "metadata": {
    "collapsed": true
   },
   "outputs": [],
   "source": [
    "def true_risk_plot(q, x, n):\n",
    "    \"\"\" Counts true risks for all values of training set size up to n and draws a plot. Returns all counted true risks. \"\"\"\n",
    "    true_risks = []\n",
    "    iterations = 30\n",
    "    \n",
    "    for m in xrange(1, n + 1):\n",
    "        true_risk_for_m = 0\n",
    "        for _ in xrange(0, iterations):\n",
    "            points = zip(rand.sample(m), rand.sample(m))\n",
    "            f = [1 if point[0] < q and point[1] < q else 0 for point in points]\n",
    "            h_params = algorithm(points, f)\n",
    "            true_risk_for_m += true_risk(q, x, *h_params)\n",
    "        true_risk_for_m /= iterations\n",
    "        true_risks.append(true_risk_for_m)\n",
    "    \n",
    "    m_values = [i for i in xrange(1, n + 1)]\n",
    "        \n",
    "    plt.figure(figsize=(14, 5))\n",
    "    \n",
    "    plt.subplot(1, 2, 1)\n",
    "    plt.plot(m_values, true_risks)\n",
    "    plt.xlabel('Training set size')\n",
    "    plt.ylabel('True risk')\n",
    "    \n",
    "    plt.subplot(1, 2, 2)\n",
    "    plt.plot(m_values, [math.log(risk) for risk in true_risks])\n",
    "    plt.xlabel('Training set size')\n",
    "    plt.ylabel('True risk (ln)')\n",
    "    \n",
    "    plt.tight_layout()\n",
    "    plt.show()\n",
    "    \n",
    "    return true_risks"
   ]
  },
  {
   "cell_type": "code",
   "execution_count": 13,
   "metadata": {
    "collapsed": true
   },
   "outputs": [],
   "source": [
    "def find_first_match(true_risks, desired_true_risk):\n",
    "    \"\"\" Returns the first value of training set size for which true risk is lower than specified desired true risk. \"\"\"\n",
    "    for i, true_risk in enumerate(true_risks):\n",
    "        if true_risk < desired_true_risk:\n",
    "            return i + 1"
   ]
  },
  {
   "cell_type": "code",
   "execution_count": 14,
   "metadata": {},
   "outputs": [
    {
     "data": {
      "image/png": "[encoded data removed]",
      "text/plain": [
       "<matplotlib.figure.Figure at 0x65cd0f0>"
      ]
     },
     "metadata": {},
     "output_type": "display_data"
    },
    {
     "name": "stdout",
     "output_type": "stream",
     "text": [
      "m for true risk = 10%: 32\n",
      "m for true risk = 1%: 331\n",
      "m for true risk = 0.1%: 3177\n"
     ]
    }
   ],
   "source": [
    "true_risks = true_risk_plot(0.5**0.5, 1.0, 5000)\n",
    "m_0_1 = find_first_match(true_risks, 0.1)\n",
    "m_0_01 = find_first_match(true_risks, 0.01)\n",
    "m_0_001 = find_first_match(true_risks, 0.001)\n",
    "\n",
    "print \"m for true risk = 10%: {}\".format(m_0_1)\n",
    "print \"m for true risk = 1%: {}\".format(m_0_01)\n",
    "print \"m for true risk = 0.1%: {}\".format(m_0_001)"
   ]
  },
  {
   "cell_type": "code",
   "execution_count": null,
   "metadata": {
    "collapsed": true
   },
   "outputs": [],
   "source": []
  }
 ],
 "metadata": {
  "kernelspec": {
   "display_name": "Python 2",
   "language": "python",
   "name": "python2"
  },
  "language_info": {
   "codemirror_mode": {
    "name": "ipython",
    "version": 2
   },
   "file_extension": ".py",
   "mimetype": "text/x-python",
   "name": "python",
   "nbconvert_exporter": "python",
   "pygments_lexer": "ipython2",
   "version": "2.7.13"
  }
 },
 "nbformat": 4,
 "nbformat_minor": 2
}
