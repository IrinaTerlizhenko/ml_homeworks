{
 "cells": [
  {
   "cell_type": "code",
   "execution_count": 63,
   "metadata": {
    "collapsed": true
   },
   "outputs": [],
   "source": [
    "# python2.7\n",
    "import csv\n",
    "import numpy as np\n",
    "import numpy.linalg as linalg\n",
    "from scipy.optimize import linprog\n",
    "import matplotlib.pyplot as plt"
   ]
  },
  {
   "cell_type": "code",
   "execution_count": 64,
   "metadata": {
    "collapsed": true
   },
   "outputs": [],
   "source": [
    "def mse(w, Xt, y):\n",
    "    mse_h = 0\n",
    "    for xi, yi in zip(Xt, y):\n",
    "        mse_h += (np.dot(w, xi) - yi) ** 2\n",
    "    return mse_h / len(Xt)"
   ]
  },
  {
   "cell_type": "markdown",
   "metadata": {},
   "source": [
    "Implementation without SVD."
   ]
  },
  {
   "cell_type": "code",
   "execution_count": 65,
   "metadata": {
    "collapsed": true
   },
   "outputs": [],
   "source": [
    "def ridge(X, Xt, y, tau):\n",
    "    I = np.identity(d)\n",
    "    \n",
    "    XXt = np.dot(X, Xt)\n",
    "    XXt_tauI = XXt + tau * I\n",
    "    XXt_tauI_inv = linalg.inv(XXt_tauI)\n",
    "    Xy = np.dot(X, y)\n",
    "    return np.dot(XXt_tauI_inv, Xy)"
   ]
  },
  {
   "cell_type": "markdown",
   "metadata": {},
   "source": [
    "Implementation with SVD."
   ]
  },
  {
   "cell_type": "code",
   "execution_count": 66,
   "metadata": {},
   "outputs": [],
   "source": [
    "U = None\n",
    "D = None\n",
    "Vt = None\n",
    "def ridge_svd(tau, y):\n",
    "    global U, D, Vt\n",
    "    if U is None:\n",
    "        U, D, Vt = linalg.svd(X)\n",
    "    Dt = np.zeros(shape=(len(X[0]), len(X))) # (m, d)\n",
    "    for i, d in enumerate(D):\n",
    "        Dt[i, i] = (d ** 2 + tau) ** 0.5\n",
    "    Dt_pinv = linalg.pinv(Dt)\n",
    "    U_Dt_pinv = np.dot(U, Dt_pinv)\n",
    "    U_Dt_pinv_Vt = np.dot(U_Dt_pinv, Vt)\n",
    "    return np.dot(U_Dt_pinv_Vt, y)"
   ]
  },
  {
   "cell_type": "markdown",
   "metadata": {},
   "source": [
    "Run ridge regression multiple times for different $\\tau$ and draw a plot how MSE depends on $\\tau$."
   ]
  },
  {
   "cell_type": "code",
   "execution_count": 67,
   "metadata": {
    "collapsed": true
   },
   "outputs": [],
   "source": [
    "def plot_tau(y):\n",
    "    plt.figure(figsize=(14, 5))\n",
    "    \n",
    "    tau_values = [x / 10.0 for x in xrange(0, 1001)]\n",
    "    w_values = [ridge_svd(tau, y) for tau in tau_values]\n",
    "    mse_values = [mse(w, Xt, y) for w in w_values]\n",
    "    \n",
    "    plt.plot(tau_values, mse_values)\n",
    "    plt.xlabel('tau')\n",
    "    plt.ylabel('MSE')\n",
    "    \n",
    "    plt.show()"
   ]
  },
  {
   "cell_type": "code",
   "execution_count": 68,
   "metadata": {
    "collapsed": true
   },
   "outputs": [],
   "source": [
    "players = np.genfromtxt('data/basketball.csv', delimiter=',', skip_header=1)"
   ]
  },
  {
   "cell_type": "markdown",
   "metadata": {},
   "source": [
    "Prepare size of training set, number of features, features themselves, labels.\n",
    "\n",
    "Adding '1's to each element's feature vector to reflect bias."
   ]
  },
  {
   "cell_type": "code",
   "execution_count": 69,
   "metadata": {
    "collapsed": true
   },
   "outputs": [],
   "source": [
    "m = len(players)\n",
    "d = len(players[0]) # len(players[0]) - 1 + 1 for 'b'\n",
    "\n",
    "Xt = np.array([np.append(player[:4], 1) for player in players])\n",
    "X = np.transpose(Xt)\n",
    "y = np.array([player[4] for player in players])"
   ]
  },
  {
   "cell_type": "markdown",
   "metadata": {},
   "source": [
    "Ridge regression."
   ]
  },
  {
   "cell_type": "code",
   "execution_count": 70,
   "metadata": {},
   "outputs": [
    {
     "name": "stdout",
     "output_type": "stream",
     "text": [
      "Ridge regression without SVD.\n",
      "w (last element is for bias): [-3.69049908e+00  9.45845788e-03  4.79401992e+01  1.13710193e+01\n",
      "  4.14870671e+00]\n",
      "MSE: 26.5654032851\n",
      "Ridge regression with SVD.\n",
      "w (last element is for bias): [-3.69049908e+00  9.45845788e-03  4.79401992e+01  1.13710193e+01\n",
      "  4.14870671e+00]\n",
      "MSE: 26.5654032851\n"
     ]
    },
    {
     "data": {
      "image/png": "[encoded data removed]",
      "text/plain": [
       "<matplotlib.figure.Figure at 0x11a8ed68>"
      ]
     },
     "metadata": {},
     "output_type": "display_data"
    }
   ],
   "source": [
    "def task1():\n",
    "    # the best found tau\n",
    "    tau = 0\n",
    "    \n",
    "    w = ridge(X, Xt, y, tau)\n",
    "    print 'Ridge regression without SVD.'\n",
    "    print 'w (last element is for bias): {}'.format(w)\n",
    "\n",
    "    mse_h = mse(w, Xt, y)\n",
    "    print 'MSE: {}'.format(mse_h)\n",
    "\n",
    "    w = ridge_svd(tau, y)\n",
    "    print 'Ridge regression with SVD.'\n",
    "    print 'w (last element is for bias): {}'.format(w)\n",
    "\n",
    "    mse_h = mse(w, Xt, y)\n",
    "    print 'MSE: {}'.format(mse_h)\n",
    "\n",
    "    plot_tau(y)\n",
    "\n",
    "task1()"
   ]
  },
  {
   "cell_type": "code",
   "execution_count": 71,
   "metadata": {
    "collapsed": true
   },
   "outputs": [],
   "source": [
    "def mae(w, Xt, y):\n",
    "    mae_h = 0\n",
    "    for xi, yi in zip(Xt, y):\n",
    "        mae_h += np.abs(np.dot(w, xi) - yi)\n",
    "    return mae_h / len(Xt)"
   ]
  },
  {
   "cell_type": "code",
   "execution_count": 72,
   "metadata": {
    "collapsed": true
   },
   "outputs": [],
   "source": [
    "def least_absolute_regression(Xt, y):\n",
    "    m = len(Xt)\n",
    "    d = len(Xt[0])\n",
    "    \n",
    "    A = np.block([\n",
    "            [np.eye(m) * -1, Xt],\n",
    "            [np.eye(m) * -1, Xt * -1]\n",
    "        ])\n",
    "    b = np.block([y, y * -1])\n",
    "    c = np.block([np.ones(m), np.zeros(d)])\n",
    "    \n",
    "    optimize_result = linprog(c, A, b)\n",
    "    \n",
    "    return optimize_result.x[-d:]"
   ]
  },
  {
   "cell_type": "markdown",
   "metadata": {},
   "source": [
    "Least absolute regression"
   ]
  },
  {
   "cell_type": "code",
   "execution_count": 73,
   "metadata": {},
   "outputs": [
    {
     "name": "stdout",
     "output_type": "stream",
     "text": [
      "Least absolute regression.\n",
      "w (last element is for bias): [ 0.         0.         5.3720284 10.9138623  0.       ]\n",
      "MAE: 4.10147850846\n"
     ]
    }
   ],
   "source": [
    "def task2():\n",
    "    w = least_absolute_regression(Xt, y)\n",
    "    print 'Least absolute regression.'\n",
    "    print 'w (last element is for bias): {}'.format(w)\n",
    "    \n",
    "    mae_h = mae(w, Xt, y)\n",
    "    print 'MAE: {}'.format(mae_h)\n",
    "\n",
    "task2()"
   ]
  },
  {
   "cell_type": "markdown",
   "metadata": {
    "collapsed": true
   },
   "source": [
    "Выборка имеет довольно сильные выбросы, которые в случае MSE дают большую величину ошибки, чем для MAE, т.к. возводятся в квадрат. Поэтому значение MAE на данной выборке существенно лучше: 4 против 26.\n",
    "\n",
    "Можно сделать вывод, что оптимизацию MSE лучше выбирать, когда необходимо минимизировать силу выбросов, тогда как MAE - когда необходима оптимизация в среднем и можно позволить небольшое количество сильных выбросов."
   ]
  },
  {
   "cell_type": "code",
   "execution_count": null,
   "metadata": {
    "collapsed": true
   },
   "outputs": [],
   "source": []
  }
 ],
 "metadata": {
  "kernelspec": {
   "display_name": "Python 2",
   "language": "python",
   "name": "python2"
  },
  "language_info": {
   "codemirror_mode": {
    "name": "ipython",
    "version": 2
   },
   "file_extension": ".py",
   "mimetype": "text/x-python",
   "name": "python",
   "nbconvert_exporter": "python",
   "pygments_lexer": "ipython2",
   "version": "2.7.13"
  }
 },
 "nbformat": 4,
 "nbformat_minor": 2
}
